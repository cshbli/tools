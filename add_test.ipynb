{
  "cells": [
    {
      "cell_type": "markdown",
      "metadata": {},
      "source": [
        "# Add Test"
      ]
    },
    {
      "cell_type": "markdown",
      "metadata": {},
      "source": [
        "## Create a simple Tensorflow model with Add\n"
      ]
    },
    {
      "cell_type": "code",
      "execution_count": 19,
      "metadata": {
        "collapsed": false
      },
      "outputs": [],
      "source": [
        "import tensorflow as tf\n",
        "\n",
        "tf.reset_default_graph()\n",
        "\n",
        "x = tf.placeholder(tf.float32, shape=(1, 128, 128, 64))\n",
        "y = tf.Variable(tf.random_normal([1, 128, 128, 64], stddev=0.001), name=\"y\")\n",
        "z = tf.Variable(tf.random_normal([1, 128, 128, 64], stddev=0.001), name=\"z\")\n",
        "\n",
        "# with tf.variable_scope(\"add\"):\n",
        "#     add_layer_1 = x + y    \n",
        "#     add_layer_2 = add_layer_1 + z\n",
        "\n",
        "add_layer_1 = tf.math.add(x, y, name=\"add_1\")\n",
        "add_layer_2 = tf.math.add(add_layer_1, z, name=\"add_2\")\n",
        "\n",
        "saver = tf.train.Saver()\n",
        "with tf.Session() as sess:    \n",
        "    sess.run(tf.global_variables_initializer())\n",
        "    saver.save(sess, \"checkpoints/simple_add.ckpt\")"
      ]
    },
    {
      "cell_type": "markdown",
      "metadata": {},
      "source": [
        "## run this model"
      ]
    },
    {
      "cell_type": "code",
      "execution_count": 9,
      "metadata": {
        "tags": []
      },
      "outputs": [
        {
          "output_type": "stream",
          "name": "stdout",
          "text": "output: [[[[ 1.05917001e+00  2.39848450e-01  5.87571025e-01 ... -2.15858206e-01\n    -4.87500101e-01 -1.03547907e+00]\n   [ 1.08037814e-01 -2.40983263e-01 -9.78406370e-01 ... -9.00650918e-02\n    -2.59612828e-01  1.10814714e+00]\n   [ 4.03214306e-01  2.45378777e-01 -4.62918431e-01 ...  9.24963653e-01\n    -7.75280297e-01  1.61278337e-01]\n   ...\n   [ 5.99082172e-01  1.55726686e-01  5.57168424e-01 ... -3.87253948e-02\n     2.99933314e-01 -3.64555955e-01]\n   [ 1.35187715e-01 -7.57704675e-01 -6.46256447e-01 ...  3.17521691e-01\n    -9.02392864e-02 -1.54440507e-01]\n   [-3.16636205e-01  1.63070455e-01 -5.31418920e-01 ...  3.98793727e-01\n     3.19806039e-01 -6.31888688e-01]]\n\n  [[-3.19771677e-01 -1.18554008e+00 -5.78949600e-02 ... -3.16019095e-02\n     8.14077318e-01  1.42967895e-01]\n   [-3.05664301e-01  8.41919243e-01  6.07954264e-01 ... -6.74834192e-01\n    -6.40025735e-01  2.75953203e-01]\n   [-4.48342204e-01  2.10251883e-01  1.59464732e-01 ... -3.68183821e-01\n    -5.38324535e-01 -4.19074267e-01]\n   ...\n   [ 1.11050688e-01  4.86570239e-01  4.87148494e-01 ...  1.42726645e-01\n     8.21353942e-02 -1.24061882e+00]\n   [-2.64813125e-01 -1.75969720e-01  4.45907950e-01 ... -2.75646657e-01\n    -4.39820558e-01 -4.54543345e-02]\n   [ 1.64613113e-01 -3.13009471e-02  4.63045508e-01 ... -5.24937868e-01\n    -4.60822135e-01  5.81902742e-01]]\n\n  [[ 1.34720385e-01  1.65571555e-01 -5.60468793e-01 ... -1.34745389e-01\n     3.98732036e-01 -5.53102434e-01]\n   [-3.79038006e-02  2.02574253e-01 -6.09662710e-03 ...  3.51226985e-01\n     4.93531115e-06 -8.60806644e-01]\n   [-1.98248446e-01  4.38893348e-01 -3.73506546e-02 ... -5.27329922e-01\n    -4.51304704e-01  1.53014809e-01]\n   ...\n   [-1.26568452e-01 -4.19276416e-01  8.63146663e-01 ... -7.66467378e-02\n    -1.15694153e+00  1.71633050e-01]\n   [-9.36254486e-02 -4.45337027e-01  2.36165509e-01 ... -5.87241985e-02\n    -1.06281117e-01 -1.18561387e+00]\n   [ 4.93878037e-01  8.19857597e-01  7.81184077e-01 ...  5.67401722e-02\n    -2.25508049e-01 -6.39248371e-01]]\n\n  ...\n\n  [[-4.26806599e-01  2.76232898e-01 -8.88928711e-01 ... -3.90696496e-01\n    -2.94504434e-01 -3.67489308e-01]\n   [ 1.88287087e-02 -2.20732957e-01 -8.82785082e-01 ... -3.70407850e-01\n    -1.20938532e-01 -5.84421854e-04]\n   [ 1.85884640e-01  4.59268272e-01 -5.41625023e-02 ... -4.76688951e-01\n     9.48808968e-01 -6.02819741e-01]\n   ...\n   [-1.19393550e-01  7.17856169e-01  1.49286658e-01 ... -3.70514601e-01\n     1.14750040e+00  9.28482473e-01]\n   [-2.29532123e-01 -5.02412260e-01  9.17493820e-01 ...  6.28295600e-01\n     4.62128580e-01  3.84362847e-01]\n   [ 5.69161236e-01  4.12012726e-01 -2.29282230e-02 ...  5.75820915e-02\n    -8.39618295e-02  1.49091899e+00]]\n\n  [[ 5.70393689e-02 -1.64670557e-01  1.74636111e-01 ...  2.07178012e-01\n    -1.82906210e-01 -1.49442241e-01]\n   [ 2.75022566e-01  8.51199448e-01  2.69353002e-01 ... -1.21555150e-01\n    -9.54290211e-01  1.40552926e+00]\n   [ 4.61503938e-02 -2.97140647e-02  3.85795683e-01 ...  2.25114256e-01\n     7.85555363e-01  2.59705961e-01]\n   ...\n   [ 2.15032068e-03  5.18705308e-01 -1.32727599e+00 ... -1.14911415e-01\n     1.36317909e-01  7.82130063e-02]\n   [ 7.93248236e-01  1.19483443e-02  2.81091958e-01 ... -8.45573068e-01\n    -3.00739616e-01 -8.43059182e-01]\n   [-6.63170040e-01 -4.53956015e-02  5.62901124e-02 ...  4.66981297e-03\n    -1.71335921e-01  3.50133806e-01]]\n\n  [[-5.14251292e-01  5.98816931e-01 -2.85501659e-01 ... -5.71408331e-01\n    -7.59574711e-01 -9.40871060e-01]\n   [ 9.70599428e-03 -2.21691489e-01  1.31638452e-01 ...  4.78411525e-01\n    -3.37296844e-01 -1.15705105e-02]\n   [-4.95354503e-01  2.52621531e-01 -4.64929670e-01 ...  9.51947987e-01\n     8.91815200e-02 -1.26221788e+00]\n   ...\n   [ 2.96489149e-01  9.42302167e-01 -3.78542468e-02 ... -3.01203310e-01\n     1.68016329e-01 -8.67763460e-02]\n   [-1.23842441e-01  1.11161351e-01 -9.40083802e-01 ... -9.16034430e-02\n    -6.14018083e-01 -1.29273808e+00]\n   [-6.01288915e-01  2.47000635e-01 -4.34280932e-01 ...  4.21092391e-01\n     2.20960215e-01  1.20129335e+00]]]]\n"
        }
      ],
      "source": [
        "import tensorflow as tf\n",
        "import numpy as np\n",
        "\n",
        "tf.reset_default_graph()\n",
        "tf.random.set_random_seed(1)\n",
        "\n",
        "x = tf.placeholder(tf.float32, shape=(1, 128, 128, 64))\n",
        "y = tf.Variable(tf.random_normal([1, 128, 128, 64], stddev=0.001), name=\"y\")\n",
        "z = tf.Variable(tf.random_normal([1, 128, 128, 64], stddev=0.001), name=\"z\")\n",
        "\n",
        "# with tf.variable_scope(\"add\"):\n",
        "#     add_layer_1 = x + y    \n",
        "#     add_layer_2 = add_layer_1 + z\n",
        "\n",
        "add_layer_1 = tf.math.add(x, y, name=\"add_1\")\n",
        "add_layer_2 = tf.math.add(add_layer_1, z, name=\"add_2\")\n",
        "\n",
        "saver = tf.train.Saver()\n",
        "with tf.Session() as sess:    \n",
        "    np.random.seed(0)\n",
        "    np_array = np.random.normal(0.0, 0.6, size=(1, 128, 128, 64))\n",
        "    np_array.astype(float)\n",
        "    x = tf.get_default_graph().get_tensor_by_name(\"Placeholder:0\")\n",
        "    \n",
        "    sess.run(tf.global_variables_initializer())\n",
        "\n",
        "    output_tensor = tf.get_default_graph().get_tensor_by_name(\"add_2:0\")\n",
        "    output = sess.run([output_tensor], feed_dict={x: np_array})\n",
        "    print(\"output: {}\".format(output[0]))\n",
        "\n",
        "    saver.save(sess, \"checkpoints/simple_add.ckpt\")"
      ]
    },
    {
      "cell_type": "code",
      "execution_count": 17,
      "metadata": {
        "tags": []
      },
      "outputs": [
        {
          "output_type": "stream",
          "name": "stdout",
          "text": "output: [[[[ 1.05917001e+00  2.39848450e-01  5.87571025e-01 ... -2.15858206e-01\n    -4.87500101e-01 -1.03547907e+00]\n   [ 1.08037814e-01 -2.40983263e-01 -9.78406370e-01 ... -9.00650918e-02\n    -2.59612828e-01  1.10814714e+00]\n   [ 4.03214306e-01  2.45378777e-01 -4.62918431e-01 ...  9.24963653e-01\n    -7.75280297e-01  1.61278337e-01]\n   ...\n   [ 5.99082172e-01  1.55726686e-01  5.57168424e-01 ... -3.87253948e-02\n     2.99933314e-01 -3.64555955e-01]\n   [ 1.35187715e-01 -7.57704675e-01 -6.46256447e-01 ...  3.17521691e-01\n    -9.02392864e-02 -1.54440507e-01]\n   [-3.16636205e-01  1.63070455e-01 -5.31418920e-01 ...  3.98793727e-01\n     3.19806039e-01 -6.31888688e-01]]\n\n  [[-3.19771677e-01 -1.18554008e+00 -5.78949600e-02 ... -3.16019095e-02\n     8.14077318e-01  1.42967895e-01]\n   [-3.05664301e-01  8.41919243e-01  6.07954264e-01 ... -6.74834192e-01\n    -6.40025735e-01  2.75953203e-01]\n   [-4.48342204e-01  2.10251883e-01  1.59464732e-01 ... -3.68183821e-01\n    -5.38324535e-01 -4.19074267e-01]\n   ...\n   [ 1.11050688e-01  4.86570239e-01  4.87148494e-01 ...  1.42726645e-01\n     8.21353942e-02 -1.24061882e+00]\n   [-2.64813125e-01 -1.75969720e-01  4.45907950e-01 ... -2.75646657e-01\n    -4.39820558e-01 -4.54543345e-02]\n   [ 1.64613113e-01 -3.13009471e-02  4.63045508e-01 ... -5.24937868e-01\n    -4.60822135e-01  5.81902742e-01]]\n\n  [[ 1.34720385e-01  1.65571555e-01 -5.60468793e-01 ... -1.34745389e-01\n     3.98732036e-01 -5.53102434e-01]\n   [-3.79038006e-02  2.02574253e-01 -6.09662710e-03 ...  3.51226985e-01\n     4.93531115e-06 -8.60806644e-01]\n   [-1.98248446e-01  4.38893348e-01 -3.73506546e-02 ... -5.27329922e-01\n    -4.51304704e-01  1.53014809e-01]\n   ...\n   [-1.26568452e-01 -4.19276416e-01  8.63146663e-01 ... -7.66467378e-02\n    -1.15694153e+00  1.71633050e-01]\n   [-9.36254486e-02 -4.45337027e-01  2.36165509e-01 ... -5.87241985e-02\n    -1.06281117e-01 -1.18561387e+00]\n   [ 4.93878037e-01  8.19857597e-01  7.81184077e-01 ...  5.67401722e-02\n    -2.25508049e-01 -6.39248371e-01]]\n\n  ...\n\n  [[-4.26806599e-01  2.76232898e-01 -8.88928711e-01 ... -3.90696496e-01\n    -2.94504434e-01 -3.67489308e-01]\n   [ 1.88287087e-02 -2.20732957e-01 -8.82785082e-01 ... -3.70407850e-01\n    -1.20938532e-01 -5.84421854e-04]\n   [ 1.85884640e-01  4.59268272e-01 -5.41625023e-02 ... -4.76688951e-01\n     9.48808968e-01 -6.02819741e-01]\n   ...\n   [-1.19393550e-01  7.17856169e-01  1.49286658e-01 ... -3.70514601e-01\n     1.14750040e+00  9.28482473e-01]\n   [-2.29532123e-01 -5.02412260e-01  9.17493820e-01 ...  6.28295600e-01\n     4.62128580e-01  3.84362847e-01]\n   [ 5.69161236e-01  4.12012726e-01 -2.29282230e-02 ...  5.75820915e-02\n    -8.39618295e-02  1.49091899e+00]]\n\n  [[ 5.70393689e-02 -1.64670557e-01  1.74636111e-01 ...  2.07178012e-01\n    -1.82906210e-01 -1.49442241e-01]\n   [ 2.75022566e-01  8.51199448e-01  2.69353002e-01 ... -1.21555150e-01\n    -9.54290211e-01  1.40552926e+00]\n   [ 4.61503938e-02 -2.97140647e-02  3.85795683e-01 ...  2.25114256e-01\n     7.85555363e-01  2.59705961e-01]\n   ...\n   [ 2.15032068e-03  5.18705308e-01 -1.32727599e+00 ... -1.14911415e-01\n     1.36317909e-01  7.82130063e-02]\n   [ 7.93248236e-01  1.19483443e-02  2.81091958e-01 ... -8.45573068e-01\n    -3.00739616e-01 -8.43059182e-01]\n   [-6.63170040e-01 -4.53956015e-02  5.62901124e-02 ...  4.66981297e-03\n    -1.71335921e-01  3.50133806e-01]]\n\n  [[-5.14251292e-01  5.98816931e-01 -2.85501659e-01 ... -5.71408331e-01\n    -7.59574711e-01 -9.40871060e-01]\n   [ 9.70599428e-03 -2.21691489e-01  1.31638452e-01 ...  4.78411525e-01\n    -3.37296844e-01 -1.15705105e-02]\n   [-4.95354503e-01  2.52621531e-01 -4.64929670e-01 ...  9.51947987e-01\n     8.91815200e-02 -1.26221788e+00]\n   ...\n   [ 2.96489149e-01  9.42302167e-01 -3.78542468e-02 ... -3.01203310e-01\n     1.68016329e-01 -8.67763460e-02]\n   [-1.23842441e-01  1.11161351e-01 -9.40083802e-01 ... -9.16034430e-02\n    -6.14018083e-01 -1.29273808e+00]\n   [-6.01288915e-01  2.47000635e-01 -4.34280932e-01 ...  4.21092391e-01\n     2.20960215e-01  1.20129335e+00]]]]\n"
        }
      ],
      "source": [
        "import tensorflow as tf\n",
        "import numpy as np\n",
        "\n",
        "tf.reset_default_graph()\n",
        "tf.random.set_random_seed(1)\n",
        "\n",
        "x = tf.placeholder(tf.float32, shape=(1, 128, 128, 64))\n",
        "y = tf.Variable(tf.random_normal([1, 128, 128, 64], stddev=0.001), name=\"y\")\n",
        "z = tf.Variable(tf.random_normal([1, 128, 128, 64], stddev=0.001), name=\"z\")\n",
        "\n",
        "add_layer_1 = tf.math.add(x, y, name=\"add_1\")\n",
        "identity_matrix = np.identity(64).astype(np.float32)\n",
        "weight_matrix = np.reshape(identity_matrix, (1, 1, 64, 64))\n",
        "w = tf.Variable(weight_matrix, name=\"dummy_conv\" + \"_weight\")    \n",
        "dummy_conv_layer = tf.nn.convolution(add_layer_1, w, strides=[1, 1], padding='SAME', name=\"dummy_conv\")\n",
        "add_layer_2 = tf.math.add(dummy_conv_layer, z, name=\"add_2\")\n",
        "\n",
        "saver = tf.train.Saver()\n",
        "with tf.Session() as sess:    \n",
        "    np.random.seed(0)\n",
        "    np_array = np.random.normal(0.0, 0.6, size=(1, 128, 128, 64))\n",
        "    np_array.astype(float)\n",
        "    x = tf.get_default_graph().get_tensor_by_name(\"Placeholder:0\")\n",
        "    \n",
        "    sess.run(tf.global_variables_initializer())\n",
        "\n",
        "    output_tensor = tf.get_default_graph().get_tensor_by_name(\"add_2:0\")\n",
        "    output = sess.run([output_tensor], feed_dict={x: np_array})\n",
        "    print(\"output: {}\".format(output[0]))\n",
        "\n",
        "    saver.save(sess, \"checkpoints/simple_add.ckpt\")"
      ]
    },
    {
      "cell_type": "markdown",
      "metadata": {},
      "source": [
        "## Frozen this simple model "
      ]
    },
    {
      "cell_type": "code",
      "execution_count": 20,
      "metadata": {
        "collapsed": false,
        "tags": []
      },
      "outputs": [
        {
          "output_type": "stream",
          "name": "stdout",
          "text": "INFO:tensorflow:Restoring parameters from checkpoints/simple_add.ckpt\nINFO:tensorflow:Froze 2 variables.\nINFO:tensorflow:Converted 2 variables to const ops.\n"
        }
      ],
      "source": [
        "import tensorflow as tf\n",
        "\n",
        "tf.reset_default_graph()\n",
        "\n",
        "# When using with tf.variable_scope(\"add\")\n",
        "# output_node_names = \"add/add\"\n",
        "output_node_names = \"add_2\"\n",
        "output_model_name = \"frozen_simple_add.pb\"\n",
        "\n",
        "with tf.Session() as sess:\n",
        "    saver = tf.train.import_meta_graph('checkpoints/simple_add.ckpt.meta')\n",
        "    saver.restore(sess, \"checkpoints/simple_add.ckpt\")\n",
        "\n",
        "    output_graph_def = tf.graph_util.convert_variables_to_constants(\n",
        "        sess,   # The session is used to retrieve the weights\n",
        "        tf.get_default_graph().as_graph_def(), # The graph_def is used to retrieve the nodes \n",
        "        output_node_names.split(\",\")    # The output node names are used to select the usefull nodes\n",
        "    )\n",
        "\n",
        "    # Finally we serialize and dump the output graph to the filesystem\n",
        "    with tf.gfile.GFile(output_model_name, \"wb\") as f:\n",
        "        f.write(output_graph_def.SerializeToString())"
      ]
    },
    {
      "cell_type": "markdown",
      "metadata": {},
      "source": [
        "## Quantize this simple Add model"
      ]
    },
    {
      "cell_type": "code",
      "execution_count": 13,
      "metadata": {
        "tags": [
          "outputPrepend"
        ]
      },
      "outputs": [
        {
          "output_type": "stream",
          "name": "stdout",
          "text": "[<tf.Operation 'Placeholder' type=Placeholder>, <tf.Operation 'random_normal/shape' type=Const>, <tf.Operation 'random_normal/mean' type=Const>, <tf.Operation 'random_normal/stddev' type=Const>, <tf.Operation 'random_normal/RandomStandardNormal' type=RandomStandardNormal>, <tf.Operation 'random_normal/mul' type=Mul>, <tf.Operation 'random_normal' type=Add>, <tf.Operation 'y' type=VariableV2>, <tf.Operation 'y/Assign' type=Assign>, <tf.Operation 'y/read' type=Identity>, <tf.Operation 'Const' type=Const>, <tf.Operation 'Max' type=Max>, <tf.Operation 'Const_1' type=Const>, <tf.Operation 'Min' type=Min>, <tf.Operation 'bst_fake_quant_x/Abs' type=Abs>, <tf.Operation 'bst_fake_quant_x/Abs_1' type=Abs>, <tf.Operation 'bst_fake_quant_x/Maximum' type=Maximum>, <tf.Operation 'bst_fake_quant_x/Log' type=Log>, <tf.Operation 'bst_fake_quant_x/Log_1/x' type=Const>, <tf.Operation 'bst_fake_quant_x/Log_1' type=Log>, <tf.Operation 'bst_fake_quant_x/truediv' type=RealDiv>, <tf.Operation 'bst_fake_quant_x/Ceil' type=Ceil>, <tf.Operation 'bst_fake_quant_x/Pow/x' type=Const>, <tf.Operation 'bst_fake_quant_x/Pow' type=Pow>, <tf.Operation 'bst_fake_quant_x/truediv_1/x' type=Const>, <tf.Operation 'bst_fake_quant_x/truediv_1' type=RealDiv>, <tf.Operation 'bst_fake_quant_x/quant_in' type=Mul>, <tf.Operation 'bst_fake_quant_x/clip_by_value/Minimum/y' type=Const>, <tf.Operation 'bst_fake_quant_x/clip_by_value/Minimum' type=Minimum>, <tf.Operation 'bst_fake_quant_x/clip_by_value/y' type=Const>, <tf.Operation 'bst_fake_quant_x/clip_by_value' type=Maximum>, <tf.Operation 'bst_fake_quant_x/mul/y' type=Const>, <tf.Operation 'bst_fake_quant_x/mul' type=Mul>, <tf.Operation 'bst_fake_quant_x/add/y' type=Const>, <tf.Operation 'bst_fake_quant_x/add' type=Add>, <tf.Operation 'bst_fake_quant_x/Floor' type=Floor>, <tf.Operation 'bst_fake_quant_x/truediv_2/y' type=Const>, <tf.Operation 'bst_fake_quant_x/truediv_2' type=RealDiv>, <tf.Operation 'bst_fake_quant_x/quant_out' type=Mul>, <tf.Operation 'Rank' type=Const>, <tf.Operation 'range/start' type=Const>, <tf.Operation 'range/delta' type=Const>, <tf.Operation 'range' type=Range>, <tf.Operation 'Max_1' type=Max>, <tf.Operation 'Rank_1' type=Const>, <tf.Operation 'range_1/start' type=Const>, <tf.Operation 'range_1/delta' type=Const>, <tf.Operation 'range_1' type=Range>, <tf.Operation 'Min_1' type=Min>, <tf.Operation 'bst_fake_quant_y/Abs' type=Abs>, <tf.Operation 'bst_fake_quant_y/Abs_1' type=Abs>, <tf.Operation 'bst_fake_quant_y/Maximum' type=Maximum>, <tf.Operation 'bst_fake_quant_y/Log' type=Log>, <tf.Operation 'bst_fake_quant_y/Log_1/x' type=Const>, <tf.Operation 'bst_fake_quant_y/Log_1' type=Log>, <tf.Operation 'bst_fake_quant_y/truediv' type=RealDiv>, <tf.Operation 'bst_fake_quant_y/Ceil' type=Ceil>, <tf.Operation 'bst_fake_quant_y/Pow/x' type=Const>, <tf.Operation 'bst_fake_quant_y/Pow' type=Pow>, <tf.Operation 'bst_fake_quant_y/truediv_1/x' type=Const>, <tf.Operation 'bst_fake_quant_y/truediv_1' type=RealDiv>, <tf.Operation 'bst_fake_quant_y/quant_in' type=Mul>, <tf.Operation 'bst_fake_quant_y/clip_by_value/Minimum/y' type=Const>, <tf.Operation 'bst_fake_quant_y/clip_by_value/Minimum' type=Minimum>, <tf.Operation 'bst_fake_quant_y/clip_by_value/y' type=Const>, <tf.Operation 'bst_fake_quant_y/clip_by_value' type=Maximum>, <tf.Operation 'bst_fake_quant_y/mul/y' type=Const>, <tf.Operation 'bst_fake_quant_y/mul' type=Mul>, <tf.Operation 'bst_fake_quant_y/add/y' type=Const>, <tf.Operation 'bst_fake_quant_y/add' type=Add>, <tf.Operation 'bst_fake_quant_y/Floor' type=Floor>, <tf.Operation 'bst_fake_quant_y/truediv_2/y' type=Const>, <tf.Operation 'bst_fake_quant_y/truediv_2' type=RealDiv>, <tf.Operation 'bst_fake_quant_y/quant_out' type=Mul>, <tf.Operation 'add/add' type=Add>]\nplaceholder x:  4.0 placeholder y:  0.0078125\n"
        }
      ],
      "source": [
        "import tensorflow as tf\n",
        "import numpy as np\n",
        "from quantize.python import quantize_graph\n",
        "from quantize.python.bst_quantization import _bst_fake_quant\n",
        "\n",
        "tf.reset_default_graph()\n",
        "tf.random.set_random_seed(1)\n",
        "\n",
        "x = tf.placeholder(tf.float32, shape=(32, 32, 32, 32))\n",
        "y = tf.Variable(tf.random_normal([32, 32, 32, 32], stddev=0.001), name=\"y\")\n",
        "\n",
        "max_v, min_v = tf.math.reduce_max(x), tf.math.reduce_min(x)\n",
        "quant_x = _bst_fake_quant(x, min_v, max_v, num_bits=16, name=\"bst_fake_quant_x\")\n",
        "\n",
        "max_u, min_u = tf.math.reduce_max(y), tf.math.reduce_min(y)\n",
        "quant_y = _bst_fake_quant(y, min_u, max_u, num_bits=16, name=\"bst_fake_quant_y\")\n",
        "\n",
        "with tf.variable_scope(\"add\"):\n",
        "    add_layer = quant_x + quant_y\n",
        "\n",
        "#quantize_graph.create_training_graph(input_graph=tf.get_default_graph(), activation_bits=16, weight_bits=16)\n",
        "print(tf.get_default_graph().get_operations())\n",
        "\n",
        "output_node_names = \"add/add\"\n",
        "\n",
        "with tf.Session() as sess:\n",
        "    saver = tf.train.Saver()\n",
        "    np.random.seed(0)\n",
        "    np_array = np.random.normal(0.0, 0.6, size=(32, 32, 32, 32))\n",
        "    np_array.astype(float)\n",
        "    x = tf.get_default_graph().get_tensor_by_name(\"Placeholder:0\")\n",
        "    \n",
        "    sess.run(tf.global_variables_initializer())\n",
        "\n",
        "    quant1 = tf.get_default_graph().get_tensor_by_name(\"bst_fake_quant_x/Pow:0\")\n",
        "    quant2 = tf.get_default_graph().get_tensor_by_name(\"bst_fake_quant_y/Pow:0\")\n",
        "    quant3 = tf.get_default_graph().get_tensor_by_name(\"add/add:0\")\n",
        "    output = sess.run([quant1, quant2, quant3], feed_dict={x: np_array})\n",
        "    print(\"placeholder x: \", output[0], \"placeholder y: \", output[1])\n",
        "\n",
        "    saver.save(sess, \"./quant/model.ckpt\")"
      ]
    },
    {
      "cell_type": "markdown",
      "metadata": {},
      "source": [
        "## Frozen this simple quantized model"
      ]
    },
    {
      "cell_type": "code",
      "execution_count": 19,
      "metadata": {},
      "outputs": [
        {
          "output_type": "stream",
          "name": "stdout",
          "text": "INFO:tensorflow:Restoring parameters from quant/model.ckpt\nINFO:tensorflow:Froze 7 variables.\nINFO:tensorflow:Converted 7 variables to const ops.\n"
        }
      ],
      "source": [
        "import tensorflow as tf\n",
        "\n",
        "tf.reset_default_graph()\n",
        "\n",
        "output_node_names = \"add/add\"\n",
        "output_model_name = \"frozen_quant_model.pb\"\n",
        "\n",
        "with tf.Session() as sess:\n",
        "    saver = tf.train.import_meta_graph('quant/model.ckpt.meta')\n",
        "    saver.restore(sess, \"quant/model.ckpt\")\n",
        "\n",
        "    output_graph_def = tf.graph_util.convert_variables_to_constants(\n",
        "        sess,   # The session is used to retrieve the weights\n",
        "        tf.get_default_graph().as_graph_def(), # The graph_def is used to retrieve the nodes \n",
        "        output_node_names.split(\",\")    # The output node names are used to select the usefull nodes\n",
        "    )\n",
        "\n",
        "    # Finally we serialize and dump the output graph to the filesystem\n",
        "    with tf.gfile.GFile(output_model_name, \"wb\") as f:\n",
        "        f.write(output_graph_def.SerializeToString())"
      ]
    },
    {
      "cell_type": "markdown",
      "metadata": {},
      "source": [
        "## Quantize with high-leve API"
      ]
    },
    {
      "cell_type": "code",
      "execution_count": 18,
      "metadata": {
        "tags": [
          "outputPrepend"
        ]
      },
      "outputs": [
        {
          "output_type": "stream",
          "name": "stdout",
          "text": "l/activation_Add_quant/random_normal/activation_Add_quant/min/biased/Initializer/zeros' type=Const>, <tf.Operation 'random_normal/activation_Add_quant/random_normal/activation_Add_quant/min/biased' type=VariableV2>, <tf.Operation 'random_normal/activation_Add_quant/random_normal/activation_Add_quant/min/biased/Assign' type=Assign>, <tf.Operation 'random_normal/activation_Add_quant/random_normal/activation_Add_quant/min/biased/read' type=Identity>, <tf.Operation 'random_normal/activation_Add_quant/random_normal/activation_Add_quant/min/local_step/Initializer/zeros' type=Const>, <tf.Operation 'random_normal/activation_Add_quant/random_normal/activation_Add_quant/min/local_step' type=VariableV2>, <tf.Operation 'random_normal/activation_Add_quant/random_normal/activation_Add_quant/min/local_step/Assign' type=Assign>, <tf.Operation 'random_normal/activation_Add_quant/random_normal/activation_Add_quant/min/local_step/read' type=Identity>, <tf.Operation 'random_normal/activation_Add_quant/AssignMinEma/sub' type=Sub>, <tf.Operation 'random_normal/activation_Add_quant/AssignMinEma/mul' type=Mul>, <tf.Operation 'random_normal/activation_Add_quant/AssignMinEma/AssignSub' type=AssignSub>, <tf.Operation 'random_normal/activation_Add_quant/AssignMinEma/AssignAdd/value' type=Const>, <tf.Operation 'random_normal/activation_Add_quant/AssignMinEma/AssignAdd' type=AssignAdd>, <tf.Operation 'random_normal/activation_Add_quant/AssignMinEma/sub_1/x' type=Const>, <tf.Operation 'random_normal/activation_Add_quant/AssignMinEma/sub_1' type=Sub>, <tf.Operation 'random_normal/activation_Add_quant/AssignMinEma/Pow' type=Pow>, <tf.Operation 'random_normal/activation_Add_quant/AssignMinEma/sub_2/x' type=Const>, <tf.Operation 'random_normal/activation_Add_quant/AssignMinEma/sub_2' type=Sub>, <tf.Operation 'random_normal/activation_Add_quant/AssignMinEma/truediv' type=RealDiv>, <tf.Operation 'random_normal/activation_Add_quant/AssignMinEma' type=Assign>, <tf.Operation 'random_normal/activation_Add_quant/AssignMaxEma/decay' type=Const>, <tf.Operation 'random_normal/activation_Add_quant/random_normal/activation_Add_quant/max/biased/Initializer/zeros' type=Const>, <tf.Operation 'random_normal/activation_Add_quant/random_normal/activation_Add_quant/max/biased' type=VariableV2>, <tf.Operation 'random_normal/activation_Add_quant/random_normal/activation_Add_quant/max/biased/Assign' type=Assign>, <tf.Operation 'random_normal/activation_Add_quant/random_normal/activation_Add_quant/max/biased/read' type=Identity>, <tf.Operation 'random_normal/activation_Add_quant/random_normal/activation_Add_quant/max/local_step/Initializer/zeros' type=Const>, <tf.Operation 'random_normal/activation_Add_quant/random_normal/activation_Add_quant/max/local_step' type=VariableV2>, <tf.Operation 'random_normal/activation_Add_quant/random_normal/activation_Add_quant/max/local_step/Assign' type=Assign>, <tf.Operation 'random_normal/activation_Add_quant/random_normal/activation_Add_quant/max/local_step/read' type=Identity>, <tf.Operation 'random_normal/activation_Add_quant/AssignMaxEma/sub' type=Sub>, <tf.Operation 'random_normal/activation_Add_quant/AssignMaxEma/mul' type=Mul>, <tf.Operation 'random_normal/activation_Add_quant/AssignMaxEma/AssignSub' type=AssignSub>, <tf.Operation 'random_normal/activation_Add_quant/AssignMaxEma/AssignAdd/value' type=Const>, <tf.Operation 'random_normal/activation_Add_quant/AssignMaxEma/AssignAdd' type=AssignAdd>, <tf.Operation 'random_normal/activation_Add_quant/AssignMaxEma/sub_1/x' type=Const>, <tf.Operation 'random_normal/activation_Add_quant/AssignMaxEma/sub_1' type=Sub>, <tf.Operation 'random_normal/activation_Add_quant/AssignMaxEma/Pow' type=Pow>, <tf.Operation 'random_normal/activation_Add_quant/AssignMaxEma/sub_2/x' type=Const>, <tf.Operation 'random_normal/activation_Add_quant/AssignMaxEma/sub_2' type=Sub>, <tf.Operation 'random_normal/activation_Add_quant/AssignMaxEma/truediv' type=RealDiv>, <tf.Operation 'random_normal/activation_Add_quant/AssignMaxEma' type=Assign>, <tf.Operation 'random_normal/activation_Add_quant/bst_fake_quant/Abs' type=Abs>, <tf.Operation 'random_normal/activation_Add_quant/bst_fake_quant/Abs_1' type=Abs>, <tf.Operation 'random_normal/activation_Add_quant/bst_fake_quant/Maximum' type=Maximum>, <tf.Operation 'random_normal/activation_Add_quant/bst_fake_quant/Log' type=Log>, <tf.Operation 'random_normal/activation_Add_quant/bst_fake_quant/Log_1/x' type=Const>, <tf.Operation 'random_normal/activation_Add_quant/bst_fake_quant/Log_1' type=Log>, <tf.Operation 'random_normal/activation_Add_quant/bst_fake_quant/truediv' type=RealDiv>, <tf.Operation 'random_normal/activation_Add_quant/bst_fake_quant/Ceil' type=Ceil>, <tf.Operation 'random_normal/activation_Add_quant/bst_fake_quant/Pow/x' type=Const>, <tf.Operation 'random_normal/activation_Add_quant/bst_fake_quant/Pow' type=Pow>, <tf.Operation 'random_normal/activation_Add_quant/bst_fake_quant/truediv_1/x' type=Const>, <tf.Operation 'random_normal/activation_Add_quant/bst_fake_quant/truediv_1' type=RealDiv>, <tf.Operation 'random_normal/activation_Add_quant/bst_fake_quant/quant_in' type=Mul>, <tf.Operation 'random_normal/activation_Add_quant/bst_fake_quant/clip_by_value/Minimum/y' type=Const>, <tf.Operation 'random_normal/activation_Add_quant/bst_fake_quant/clip_by_value/Minimum' type=Minimum>, <tf.Operation 'random_normal/activation_Add_quant/bst_fake_quant/clip_by_value/y' type=Const>, <tf.Operation 'random_normal/activation_Add_quant/bst_fake_quant/clip_by_value' type=Maximum>, <tf.Operation 'random_normal/activation_Add_quant/bst_fake_quant/mul/y' type=Const>, <tf.Operation 'random_normal/activation_Add_quant/bst_fake_quant/mul' type=Mul>, <tf.Operation 'random_normal/activation_Add_quant/bst_fake_quant/Floor' type=Floor>, <tf.Operation 'random_normal/activation_Add_quant/bst_fake_quant/truediv_2/y' type=Const>, <tf.Operation 'random_normal/activation_Add_quant/bst_fake_quant/truediv_2' type=RealDiv>, <tf.Operation 'random_normal/activation_Add_quant/bst_fake_quant/quant_out' type=Mul>, <tf.Operation 'add/add/activation_Add_quant/min/Initializer/Const' type=Const>, <tf.Operation 'add/add/activation_Add_quant/min' type=VariableV2>, <tf.Operation 'add/add/activation_Add_quant/min/Assign' type=Assign>, <tf.Operation 'add/add/activation_Add_quant/min/read' type=Identity>, <tf.Operation 'add/add/activation_Add_quant/max/Initializer/Const' type=Const>, <tf.Operation 'add/add/activation_Add_quant/max' type=VariableV2>, <tf.Operation 'add/add/activation_Add_quant/max/Assign' type=Assign>, <tf.Operation 'add/add/activation_Add_quant/max/read' type=Identity>, <tf.Operation 'add/add/activation_Add_quant/Const' type=Const>, <tf.Operation 'add/add/activation_Add_quant/BatchMin' type=Min>, <tf.Operation 'add/add/activation_Add_quant/Const_1' type=Const>, <tf.Operation 'add/add/activation_Add_quant/BatchMax' type=Max>, <tf.Operation 'add/add/activation_Add_quant/truediv/y' type=Const>, <tf.Operation 'add/add/activation_Add_quant/truediv' type=RealDiv>, <tf.Operation 'add/add/activation_Add_quant/Minimum' type=Minimum>, <tf.Operation 'add/add/activation_Add_quant/mul/y' type=Const>, <tf.Operation 'add/add/activation_Add_quant/mul' type=Mul>, <tf.Operation 'add/add/activation_Add_quant/Maximum' type=Maximum>, <tf.Operation 'add/add/activation_Add_quant/AssignMinEma/decay' type=Const>, <tf.Operation 'add/add/activation_Add_quant/add/add/activation_Add_quant/min/biased/Initializer/zeros' type=Const>, <tf.Operation 'add/add/activation_Add_quant/add/add/activation_Add_quant/min/biased' type=VariableV2>, <tf.Operation 'add/add/activation_Add_quant/add/add/activation_Add_quant/min/biased/Assign' type=Assign>, <tf.Operation 'add/add/activation_Add_quant/add/add/activation_Add_quant/min/biased/read' type=Identity>, <tf.Operation 'add/add/activation_Add_quant/add/add/activation_Add_quant/min/local_step/Initializer/zeros' type=Const>, <tf.Operation 'add/add/activation_Add_quant/add/add/activation_Add_quant/min/local_step' type=VariableV2>, <tf.Operation 'add/add/activation_Add_quant/add/add/activation_Add_quant/min/local_step/Assign' type=Assign>, <tf.Operation 'add/add/activation_Add_quant/add/add/activation_Add_quant/min/local_step/read' type=Identity>, <tf.Operation 'add/add/activation_Add_quant/AssignMinEma/sub' type=Sub>, <tf.Operation 'add/add/activation_Add_quant/AssignMinEma/mul' type=Mul>, <tf.Operation 'add/add/activation_Add_quant/AssignMinEma/AssignSub' type=AssignSub>, <tf.Operation 'add/add/activation_Add_quant/AssignMinEma/AssignAdd/value' type=Const>, <tf.Operation 'add/add/activation_Add_quant/AssignMinEma/AssignAdd' type=AssignAdd>, <tf.Operation 'add/add/activation_Add_quant/AssignMinEma/sub_1/x' type=Const>, <tf.Operation 'add/add/activation_Add_quant/AssignMinEma/sub_1' type=Sub>, <tf.Operation 'add/add/activation_Add_quant/AssignMinEma/Pow' type=Pow>, <tf.Operation 'add/add/activation_Add_quant/AssignMinEma/sub_2/x' type=Const>, <tf.Operation 'add/add/activation_Add_quant/AssignMinEma/sub_2' type=Sub>, <tf.Operation 'add/add/activation_Add_quant/AssignMinEma/truediv' type=RealDiv>, <tf.Operation 'add/add/activation_Add_quant/AssignMinEma' type=Assign>, <tf.Operation 'add/add/activation_Add_quant/AssignMaxEma/decay' type=Const>, <tf.Operation 'add/add/activation_Add_quant/add/add/activation_Add_quant/max/biased/Initializer/zeros' type=Const>, <tf.Operation 'add/add/activation_Add_quant/add/add/activation_Add_quant/max/biased' type=VariableV2>, <tf.Operation 'add/add/activation_Add_quant/add/add/activation_Add_quant/max/biased/Assign' type=Assign>, <tf.Operation 'add/add/activation_Add_quant/add/add/activation_Add_quant/max/biased/read' type=Identity>, <tf.Operation 'add/add/activation_Add_quant/add/add/activation_Add_quant/max/local_step/Initializer/zeros' type=Const>, <tf.Operation 'add/add/activation_Add_quant/add/add/activation_Add_quant/max/local_step' type=VariableV2>, <tf.Operation 'add/add/activation_Add_quant/add/add/activation_Add_quant/max/local_step/Assign' type=Assign>, <tf.Operation 'add/add/activation_Add_quant/add/add/activation_Add_quant/max/local_step/read' type=Identity>, <tf.Operation 'add/add/activation_Add_quant/AssignMaxEma/sub' type=Sub>, <tf.Operation 'add/add/activation_Add_quant/AssignMaxEma/mul' type=Mul>, <tf.Operation 'add/add/activation_Add_quant/AssignMaxEma/AssignSub' type=AssignSub>, <tf.Operation 'add/add/activation_Add_quant/AssignMaxEma/AssignAdd/value' type=Const>, <tf.Operation 'add/add/activation_Add_quant/AssignMaxEma/AssignAdd' type=AssignAdd>, <tf.Operation 'add/add/activation_Add_quant/AssignMaxEma/sub_1/x' type=Const>, <tf.Operation 'add/add/activation_Add_quant/AssignMaxEma/sub_1' type=Sub>, <tf.Operation 'add/add/activation_Add_quant/AssignMaxEma/Pow' type=Pow>, <tf.Operation 'add/add/activation_Add_quant/AssignMaxEma/sub_2/x' type=Const>, <tf.Operation 'add/add/activation_Add_quant/AssignMaxEma/sub_2' type=Sub>, <tf.Operation 'add/add/activation_Add_quant/AssignMaxEma/truediv' type=RealDiv>, <tf.Operation 'add/add/activation_Add_quant/AssignMaxEma' type=Assign>, <tf.Operation 'add/add/activation_Add_quant/bst_fake_quant/Abs' type=Abs>, <tf.Operation 'add/add/activation_Add_quant/bst_fake_quant/Abs_1' type=Abs>, <tf.Operation 'add/add/activation_Add_quant/bst_fake_quant/Maximum' type=Maximum>, <tf.Operation 'add/add/activation_Add_quant/bst_fake_quant/Log' type=Log>, <tf.Operation 'add/add/activation_Add_quant/bst_fake_quant/Log_1/x' type=Const>, <tf.Operation 'add/add/activation_Add_quant/bst_fake_quant/Log_1' type=Log>, <tf.Operation 'add/add/activation_Add_quant/bst_fake_quant/truediv' type=RealDiv>, <tf.Operation 'add/add/activation_Add_quant/bst_fake_quant/Ceil' type=Ceil>, <tf.Operation 'add/add/activation_Add_quant/bst_fake_quant/Pow/x' type=Const>, <tf.Operation 'add/add/activation_Add_quant/bst_fake_quant/Pow' type=Pow>, <tf.Operation 'add/add/activation_Add_quant/bst_fake_quant/truediv_1/x' type=Const>, <tf.Operation 'add/add/activation_Add_quant/bst_fake_quant/truediv_1' type=RealDiv>, <tf.Operation 'add/add/activation_Add_quant/bst_fake_quant/quant_in' type=Mul>, <tf.Operation 'add/add/activation_Add_quant/bst_fake_quant/clip_by_value/Minimum/y' type=Const>, <tf.Operation 'add/add/activation_Add_quant/bst_fake_quant/clip_by_value/Minimum' type=Minimum>, <tf.Operation 'add/add/activation_Add_quant/bst_fake_quant/clip_by_value/y' type=Const>, <tf.Operation 'add/add/activation_Add_quant/bst_fake_quant/clip_by_value' type=Maximum>, <tf.Operation 'add/add/activation_Add_quant/bst_fake_quant/mul/y' type=Const>, <tf.Operation 'add/add/activation_Add_quant/bst_fake_quant/mul' type=Mul>, <tf.Operation 'add/add/activation_Add_quant/bst_fake_quant/Floor' type=Floor>, <tf.Operation 'add/add/activation_Add_quant/bst_fake_quant/truediv_2/y' type=Const>, <tf.Operation 'add/add/activation_Add_quant/bst_fake_quant/truediv_2' type=RealDiv>, <tf.Operation 'add/add/activation_Add_quant/bst_fake_quant/quant_out' type=Mul>, <tf.Operation 'input_quant/min/Initializer/Const' type=Const>, <tf.Operation 'input_quant/min' type=VariableV2>, <tf.Operation 'input_quant/min/Assign' type=Assign>, <tf.Operation 'input_quant/min/read' type=Identity>, <tf.Operation 'input_quant/max/Initializer/Const' type=Const>, <tf.Operation 'input_quant/max' type=VariableV2>, <tf.Operation 'input_quant/max/Assign' type=Assign>, <tf.Operation 'input_quant/max/read' type=Identity>, <tf.Operation 'input_quant/Const' type=Const>, <tf.Operation 'input_quant/BatchMin' type=Min>, <tf.Operation 'input_quant/Const_1' type=Const>, <tf.Operation 'input_quant/BatchMax' type=Max>, <tf.Operation 'input_quant/truediv/y' type=Const>, <tf.Operation 'input_quant/truediv' type=RealDiv>, <tf.Operation 'input_quant/Minimum' type=Minimum>, <tf.Operation 'input_quant/mul/y' type=Const>, <tf.Operation 'input_quant/mul' type=Mul>, <tf.Operation 'input_quant/Maximum' type=Maximum>, <tf.Operation 'input_quant/AssignMinEma/decay' type=Const>, <tf.Operation 'input_quant/input_quant/min/biased/Initializer/zeros' type=Const>, <tf.Operation 'input_quant/input_quant/min/biased' type=VariableV2>, <tf.Operation 'input_quant/input_quant/min/biased/Assign' type=Assign>, <tf.Operation 'input_quant/input_quant/min/biased/read' type=Identity>, <tf.Operation 'input_quant/input_quant/min/local_step/Initializer/zeros' type=Const>, <tf.Operation 'input_quant/input_quant/min/local_step' type=VariableV2>, <tf.Operation 'input_quant/input_quant/min/local_step/Assign' type=Assign>, <tf.Operation 'input_quant/input_quant/min/local_step/read' type=Identity>, <tf.Operation 'input_quant/AssignMinEma/sub' type=Sub>, <tf.Operation 'input_quant/AssignMinEma/mul' type=Mul>, <tf.Operation 'input_quant/AssignMinEma/AssignSub' type=AssignSub>, <tf.Operation 'input_quant/AssignMinEma/AssignAdd/value' type=Const>, <tf.Operation 'input_quant/AssignMinEma/AssignAdd' type=AssignAdd>, <tf.Operation 'input_quant/AssignMinEma/sub_1/x' type=Const>, <tf.Operation 'input_quant/AssignMinEma/sub_1' type=Sub>, <tf.Operation 'input_quant/AssignMinEma/Pow' type=Pow>, <tf.Operation 'input_quant/AssignMinEma/sub_2/x' type=Const>, <tf.Operation 'input_quant/AssignMinEma/sub_2' type=Sub>, <tf.Operation 'input_quant/AssignMinEma/truediv' type=RealDiv>, <tf.Operation 'input_quant/AssignMinEma' type=Assign>, <tf.Operation 'input_quant/AssignMaxEma/decay' type=Const>, <tf.Operation 'input_quant/input_quant/max/biased/Initializer/zeros' type=Const>, <tf.Operation 'input_quant/input_quant/max/biased' type=VariableV2>, <tf.Operation 'input_quant/input_quant/max/biased/Assign' type=Assign>, <tf.Operation 'input_quant/input_quant/max/biased/read' type=Identity>, <tf.Operation 'input_quant/input_quant/max/local_step/Initializer/zeros' type=Const>, <tf.Operation 'input_quant/input_quant/max/local_step' type=VariableV2>, <tf.Operation 'input_quant/input_quant/max/local_step/Assign' type=Assign>, <tf.Operation 'input_quant/input_quant/max/local_step/read' type=Identity>, <tf.Operation 'input_quant/AssignMaxEma/sub' type=Sub>, <tf.Operation 'input_quant/AssignMaxEma/mul' type=Mul>, <tf.Operation 'input_quant/AssignMaxEma/AssignSub' type=AssignSub>, <tf.Operation 'input_quant/AssignMaxEma/AssignAdd/value' type=Const>, <tf.Operation 'input_quant/AssignMaxEma/AssignAdd' type=AssignAdd>, <tf.Operation 'input_quant/AssignMaxEma/sub_1/x' type=Const>, <tf.Operation 'input_quant/AssignMaxEma/sub_1' type=Sub>, <tf.Operation 'input_quant/AssignMaxEma/Pow' type=Pow>, <tf.Operation 'input_quant/AssignMaxEma/sub_2/x' type=Const>, <tf.Operation 'input_quant/AssignMaxEma/sub_2' type=Sub>, <tf.Operation 'input_quant/AssignMaxEma/truediv' type=RealDiv>, <tf.Operation 'input_quant/AssignMaxEma' type=Assign>, <tf.Operation 'input_quant/bst_fake_quant/Abs' type=Abs>, <tf.Operation 'input_quant/bst_fake_quant/Abs_1' type=Abs>, <tf.Operation 'input_quant/bst_fake_quant/Maximum' type=Maximum>, <tf.Operation 'input_quant/bst_fake_quant/Log' type=Log>, <tf.Operation 'input_quant/bst_fake_quant/Log_1/x' type=Const>, <tf.Operation 'input_quant/bst_fake_quant/Log_1' type=Log>, <tf.Operation 'input_quant/bst_fake_quant/truediv' type=RealDiv>, <tf.Operation 'input_quant/bst_fake_quant/Ceil' type=Ceil>, <tf.Operation 'input_quant/bst_fake_quant/Pow/x' type=Const>, <tf.Operation 'input_quant/bst_fake_quant/Pow' type=Pow>, <tf.Operation 'input_quant/bst_fake_quant/truediv_1/x' type=Const>, <tf.Operation 'input_quant/bst_fake_quant/truediv_1' type=RealDiv>, <tf.Operation 'input_quant/bst_fake_quant/quant_in' type=Mul>, <tf.Operation 'input_quant/bst_fake_quant/clip_by_value/Minimum/y' type=Const>, <tf.Operation 'input_quant/bst_fake_quant/clip_by_value/Minimum' type=Minimum>, <tf.Operation 'input_quant/bst_fake_quant/clip_by_value/y' type=Const>, <tf.Operation 'input_quant/bst_fake_quant/clip_by_value' type=Maximum>, <tf.Operation 'input_quant/bst_fake_quant/mul/y' type=Const>, <tf.Operation 'input_quant/bst_fake_quant/mul' type=Mul>, <tf.Operation 'input_quant/bst_fake_quant/Floor' type=Floor>, <tf.Operation 'input_quant/bst_fake_quant/truediv_2/y' type=Const>, <tf.Operation 'input_quant/bst_fake_quant/truediv_2' type=RealDiv>, <tf.Operation 'input_quant/bst_fake_quant/quant_out' type=Mul>]\n[<tf.Variable 'y:0' shape=(32, 32, 32, 32) dtype=float32_ref>, <tf.Variable 'random_normal/activation_Add_quant/min:0' shape=() dtype=float32_ref>, <tf.Variable 'random_normal/activation_Add_quant/max:0' shape=() dtype=float32_ref>, <tf.Variable 'random_normal/activation_Add_quant/random_normal/activation_Add_quant/min/biased:0' shape=() dtype=float32_ref>, <tf.Variable 'random_normal/activation_Add_quant/random_normal/activation_Add_quant/min/local_step:0' shape=() dtype=float32_ref>, <tf.Variable 'random_normal/activation_Add_quant/random_normal/activation_Add_quant/max/biased:0' shape=() dtype=float32_ref>, <tf.Variable 'random_normal/activation_Add_quant/random_normal/activation_Add_quant/max/local_step:0' shape=() dtype=float32_ref>, <tf.Variable 'add/add/activation_Add_quant/min:0' shape=() dtype=float32_ref>, <tf.Variable 'add/add/activation_Add_quant/max:0' shape=() dtype=float32_ref>, <tf.Variable 'add/add/activation_Add_quant/add/add/activation_Add_quant/min/biased:0' shape=() dtype=float32_ref>, <tf.Variable 'add/add/activation_Add_quant/add/add/activation_Add_quant/min/local_step:0' shape=() dtype=float32_ref>, <tf.Variable 'add/add/activation_Add_quant/add/add/activation_Add_quant/max/biased:0' shape=() dtype=float32_ref>, <tf.Variable 'add/add/activation_Add_quant/add/add/activation_Add_quant/max/local_step:0' shape=() dtype=float32_ref>, <tf.Variable 'input_quant/min:0' shape=() dtype=float32_ref>, <tf.Variable 'input_quant/max:0' shape=() dtype=float32_ref>, <tf.Variable 'input_quant/input_quant/min/biased:0' shape=() dtype=float32_ref>, <tf.Variable 'input_quant/input_quant/min/local_step:0' shape=() dtype=float32_ref>, <tf.Variable 'input_quant/input_quant/max/biased:0' shape=() dtype=float32_ref>, <tf.Variable 'input_quant/input_quant/max/local_step:0' shape=() dtype=float32_ref>]\n"
        },
        {
          "output_type": "error",
          "ename": "FailedPreconditionError",
          "evalue": "Attempting to use uninitialized value random_normal/activation_Add_quant/random_normal/activation_Add_quant/max/biased\n\t [[node random_normal/activation_Add_quant/random_normal/activation_Add_quant/max/biased/read (defined at <ipython-input-18-29df25ed37f2>:15) ]]\n\nOriginal stack trace for 'random_normal/activation_Add_quant/random_normal/activation_Add_quant/max/biased/read':\n  File \"/usr/lib/python3.6/runpy.py\", line 193, in _run_module_as_main\n    \"__main__\", mod_spec)\n  File \"/usr/lib/python3.6/runpy.py\", line 85, in _run_code\n    exec(code, run_globals)\n  File \"/home/hongbing/venv/tf1.14.0/lib/python3.6/site-packages/ipykernel_launcher.py\", line 16, in <module>\n    app.launch_new_instance()\n  File \"/home/hongbing/venv/tf1.14.0/lib/python3.6/site-packages/traitlets/config/application.py\", line 664, in launch_instance\n    app.start()\n  File \"/home/hongbing/venv/tf1.14.0/lib/python3.6/site-packages/ipykernel/kernelapp.py\", line 583, in start\n    self.io_loop.start()\n  File \"/home/hongbing/venv/tf1.14.0/lib/python3.6/site-packages/tornado/platform/asyncio.py\", line 149, in start\n    self.asyncio_loop.run_forever()\n  File \"/usr/lib/python3.6/asyncio/base_events.py\", line 438, in run_forever\n    self._run_once()\n  File \"/usr/lib/python3.6/asyncio/base_events.py\", line 1451, in _run_once\n    handle._run()\n  File \"/usr/lib/python3.6/asyncio/events.py\", line 145, in _run\n    self._callback(*self._args)\n  File \"/home/hongbing/venv/tf1.14.0/lib/python3.6/site-packages/tornado/ioloop.py\", line 690, in <lambda>\n    lambda f: self._run_callback(functools.partial(callback, future))\n  File \"/home/hongbing/venv/tf1.14.0/lib/python3.6/site-packages/tornado/ioloop.py\", line 743, in _run_callback\n    ret = callback()\n  File \"/home/hongbing/venv/tf1.14.0/lib/python3.6/site-packages/tornado/gen.py\", line 787, in inner\n    self.run()\n  File \"/home/hongbing/venv/tf1.14.0/lib/python3.6/site-packages/tornado/gen.py\", line 748, in run\n    yielded = self.gen.send(value)\n  File \"/home/hongbing/venv/tf1.14.0/lib/python3.6/site-packages/ipykernel/kernelbase.py\", line 365, in process_one\n    yield gen.maybe_future(dispatch(*args))\n  File \"/home/hongbing/venv/tf1.14.0/lib/python3.6/site-packages/tornado/gen.py\", line 209, in wrapper\n    yielded = next(result)\n  File \"/home/hongbing/venv/tf1.14.0/lib/python3.6/site-packages/ipykernel/kernelbase.py\", line 268, in dispatch_shell\n    yield gen.maybe_future(handler(stream, idents, msg))\n  File \"/home/hongbing/venv/tf1.14.0/lib/python3.6/site-packages/tornado/gen.py\", line 209, in wrapper\n    yielded = next(result)\n  File \"/home/hongbing/venv/tf1.14.0/lib/python3.6/site-packages/ipykernel/kernelbase.py\", line 545, in execute_request\n    user_expressions, allow_stdin,\n  File \"/home/hongbing/venv/tf1.14.0/lib/python3.6/site-packages/tornado/gen.py\", line 209, in wrapper\n    yielded = next(result)\n  File \"/home/hongbing/venv/tf1.14.0/lib/python3.6/site-packages/ipykernel/ipkernel.py\", line 300, in do_execute\n    res = shell.run_cell(code, store_history=store_history, silent=silent)\n  File \"/home/hongbing/venv/tf1.14.0/lib/python3.6/site-packages/ipykernel/zmqshell.py\", line 536, in run_cell\n    return super(ZMQInteractiveShell, self).run_cell(*args, **kwargs)\n  File \"/home/hongbing/venv/tf1.14.0/lib/python3.6/site-packages/IPython/core/interactiveshell.py\", line 2858, in run_cell\n    raw_cell, store_history, silent, shell_futures)\n  File \"/home/hongbing/venv/tf1.14.0/lib/python3.6/site-packages/IPython/core/interactiveshell.py\", line 2886, in _run_cell\n    return runner(coro)\n  File \"/home/hongbing/venv/tf1.14.0/lib/python3.6/site-packages/IPython/core/async_helpers.py\", line 68, in _pseudo_sync_runner\n    coro.send(None)\n  File \"/home/hongbing/venv/tf1.14.0/lib/python3.6/site-packages/IPython/core/interactiveshell.py\", line 3063, in run_cell_async\n    interactivity=interactivity, compiler=compiler, result=result)\n  File \"/home/hongbing/venv/tf1.14.0/lib/python3.6/site-packages/IPython/core/interactiveshell.py\", line 3254, in run_ast_nodes\n    if (await self.run_code(code, result,  async_=asy)):\n  File \"/home/hongbing/venv/tf1.14.0/lib/python3.6/site-packages/IPython/core/interactiveshell.py\", line 3331, in run_code\n    exec(code_obj, self.user_global_ns, self.user_ns)\n  File \"<ipython-input-18-29df25ed37f2>\", line 15, in <module>\n    quantize_graph.create_training_graph(input_graph=tf.get_default_graph(), activation_bits=16, weight_bits=16)\n  File \"/home/hongbing/venv/tf1.14.0/lib/python3.6/site-packages/tensorflow/python/training/moving_averages.py\", line 107, in assign_moving_average\n    return replica_context.merge_call(merge_fn, args=(variable, value))\n  File \"/home/hongbing/venv/tf1.14.0/lib/python3.6/site-packages/tensorflow/python/distribute/distribute_lib.py\", line 1684, in merge_call\n    return self._merge_call(merge_fn, args, kwargs)\n  File \"/home/hongbing/venv/tf1.14.0/lib/python3.6/site-packages/tensorflow/python/distribute/distribute_lib.py\", line 1691, in _merge_call\n    return merge_fn(self._strategy, *args, **kwargs)\n  File \"/home/hongbing/venv/tf1.14.0/lib/python3.6/site-packages/tensorflow/python/training/moving_averages.py\", line 105, in merge_fn\n    return update(strategy, v, value)\n  File \"/home/hongbing/venv/tf1.14.0/lib/python3.6/site-packages/tensorflow/python/training/moving_averages.py\", line 94, in update\n    return _zero_debias(strategy, v, value, decay)\n  File \"/home/hongbing/venv/tf1.14.0/lib/python3.6/site-packages/tensorflow/python/training/moving_averages.py\", line 237, in _zero_debias\n    trainable=False)\n  File \"/home/hongbing/venv/tf1.14.0/lib/python3.6/site-packages/tensorflow/python/ops/variable_scope.py\", line 1496, in get_variable\n    aggregation=aggregation)\n  File \"/home/hongbing/venv/tf1.14.0/lib/python3.6/site-packages/tensorflow/python/ops/variable_scope.py\", line 1239, in get_variable\n    aggregation=aggregation)\n  File \"/home/hongbing/venv/tf1.14.0/lib/python3.6/site-packages/tensorflow/python/ops/variable_scope.py\", line 562, in get_variable\n    aggregation=aggregation)\n  File \"/home/hongbing/venv/tf1.14.0/lib/python3.6/site-packages/tensorflow/python/ops/variable_scope.py\", line 514, in _true_getter\n    aggregation=aggregation)\n  File \"/home/hongbing/venv/tf1.14.0/lib/python3.6/site-packages/tensorflow/python/ops/variable_scope.py\", line 929, in _get_single_variable\n    aggregation=aggregation)\n  File \"/home/hongbing/venv/tf1.14.0/lib/python3.6/site-packages/tensorflow/python/ops/variables.py\", line 259, in __call__\n    return cls._variable_v1_call(*args, **kwargs)\n  File \"/home/hongbing/venv/tf1.14.0/lib/python3.6/site-packages/tensorflow/python/ops/variables.py\", line 220, in _variable_v1_call\n    shape=shape)\n  File \"/home/hongbing/venv/tf1.14.0/lib/python3.6/site-packages/tensorflow/python/ops/variables.py\", line 198, in <lambda>\n    previous_getter = lambda **kwargs: default_variable_creator(None, **kwargs)\n  File \"/home/hongbing/venv/tf1.14.0/lib/python3.6/site-packages/tensorflow/python/ops/variable_scope.py\", line 2511, in default_variable_creator\n    shape=shape)\n  File \"/home/hongbing/venv/tf1.14.0/lib/python3.6/site-packages/tensorflow/python/ops/variables.py\", line 263, in __call__\n    return super(VariableMetaclass, cls).__call__(*args, **kwargs)\n  File \"/home/hongbing/venv/tf1.14.0/lib/python3.6/site-packages/tensorflow/python/ops/variables.py\", line 1568, in __init__\n    shape=shape)\n  File \"/home/hongbing/venv/tf1.14.0/lib/python3.6/site-packages/tensorflow/python/ops/variables.py\", line 1755, in _init_from_args\n    self._snapshot = array_ops.identity(self._variable, name=\"read\")\n  File \"/home/hongbing/venv/tf1.14.0/lib/python3.6/site-packages/tensorflow/python/util/dispatch.py\", line 180, in wrapper\n    return target(*args, **kwargs)\n  File \"/home/hongbing/venv/tf1.14.0/lib/python3.6/site-packages/tensorflow/python/ops/array_ops.py\", line 86, in identity\n    ret = gen_array_ops.identity(input, name=name)\n  File \"/home/hongbing/venv/tf1.14.0/lib/python3.6/site-packages/tensorflow/python/ops/gen_array_ops.py\", line 4253, in identity\n    \"Identity\", input=input, name=name)\n  File \"/home/hongbing/venv/tf1.14.0/lib/python3.6/site-packages/tensorflow/python/framework/op_def_library.py\", line 788, in _apply_op_helper\n    op_def=op_def)\n  File \"/home/hongbing/venv/tf1.14.0/lib/python3.6/site-packages/tensorflow/python/util/deprecation.py\", line 507, in new_func\n    return func(*args, **kwargs)\n  File \"/home/hongbing/venv/tf1.14.0/lib/python3.6/site-packages/tensorflow/python/framework/ops.py\", line 3616, in create_op\n    op_def=op_def)\n  File \"/home/hongbing/venv/tf1.14.0/lib/python3.6/site-packages/tensorflow/python/framework/ops.py\", line 2005, in __init__\n    self._traceback = tf_stack.extract_stack()\n",
          "traceback": [
            "\u001b[0;31m---------------------------------------------------------------------------\u001b[0m",
            "\u001b[0;31mFailedPreconditionError\u001b[0m                   Traceback (most recent call last)",
            "\u001b[0;32m~/venv/tf1.14.0/lib/python3.6/site-packages/tensorflow/python/client/session.py\u001b[0m in \u001b[0;36m_do_call\u001b[0;34m(self, fn, *args)\u001b[0m\n\u001b[1;32m   1355\u001b[0m     \u001b[0;32mtry\u001b[0m\u001b[0;34m:\u001b[0m\u001b[0;34m\u001b[0m\u001b[0;34m\u001b[0m\u001b[0m\n\u001b[0;32m-> 1356\u001b[0;31m       \u001b[0;32mreturn\u001b[0m \u001b[0mfn\u001b[0m\u001b[0;34m(\u001b[0m\u001b[0;34m*\u001b[0m\u001b[0margs\u001b[0m\u001b[0;34m)\u001b[0m\u001b[0;34m\u001b[0m\u001b[0;34m\u001b[0m\u001b[0m\n\u001b[0m\u001b[1;32m   1357\u001b[0m     \u001b[0;32mexcept\u001b[0m \u001b[0merrors\u001b[0m\u001b[0;34m.\u001b[0m\u001b[0mOpError\u001b[0m \u001b[0;32mas\u001b[0m \u001b[0me\u001b[0m\u001b[0;34m:\u001b[0m\u001b[0;34m\u001b[0m\u001b[0;34m\u001b[0m\u001b[0m\n",
            "\u001b[0;32m~/venv/tf1.14.0/lib/python3.6/site-packages/tensorflow/python/client/session.py\u001b[0m in \u001b[0;36m_run_fn\u001b[0;34m(feed_dict, fetch_list, target_list, options, run_metadata)\u001b[0m\n\u001b[1;32m   1340\u001b[0m       return self._call_tf_sessionrun(\n\u001b[0;32m-> 1341\u001b[0;31m           options, feed_dict, fetch_list, target_list, run_metadata)\n\u001b[0m\u001b[1;32m   1342\u001b[0m \u001b[0;34m\u001b[0m\u001b[0m\n",
            "\u001b[0;32m~/venv/tf1.14.0/lib/python3.6/site-packages/tensorflow/python/client/session.py\u001b[0m in \u001b[0;36m_call_tf_sessionrun\u001b[0;34m(self, options, feed_dict, fetch_list, target_list, run_metadata)\u001b[0m\n\u001b[1;32m   1428\u001b[0m         \u001b[0mself\u001b[0m\u001b[0;34m.\u001b[0m\u001b[0m_session\u001b[0m\u001b[0;34m,\u001b[0m \u001b[0moptions\u001b[0m\u001b[0;34m,\u001b[0m \u001b[0mfeed_dict\u001b[0m\u001b[0;34m,\u001b[0m \u001b[0mfetch_list\u001b[0m\u001b[0;34m,\u001b[0m \u001b[0mtarget_list\u001b[0m\u001b[0;34m,\u001b[0m\u001b[0;34m\u001b[0m\u001b[0;34m\u001b[0m\u001b[0m\n\u001b[0;32m-> 1429\u001b[0;31m         run_metadata)\n\u001b[0m\u001b[1;32m   1430\u001b[0m \u001b[0;34m\u001b[0m\u001b[0m\n",
            "\u001b[0;31mFailedPreconditionError\u001b[0m: Attempting to use uninitialized value random_normal/activation_Add_quant/random_normal/activation_Add_quant/max/biased\n\t [[{{node random_normal/activation_Add_quant/random_normal/activation_Add_quant/max/biased/read}}]]",
            "\nDuring handling of the above exception, another exception occurred:\n",
            "\u001b[0;31mFailedPreconditionError\u001b[0m                   Traceback (most recent call last)",
            "\u001b[0;32m<ipython-input-18-29df25ed37f2>\u001b[0m in \u001b[0;36m<module>\u001b[0;34m\u001b[0m\n\u001b[1;32m     34\u001b[0m     \u001b[0mprint\u001b[0m\u001b[0;34m(\u001b[0m\u001b[0muninitialized_vars\u001b[0m\u001b[0;34m)\u001b[0m\u001b[0;34m\u001b[0m\u001b[0;34m\u001b[0m\u001b[0m\n\u001b[1;32m     35\u001b[0m     \u001b[0minit\u001b[0m \u001b[0;34m=\u001b[0m \u001b[0mtf\u001b[0m\u001b[0;34m.\u001b[0m\u001b[0minitialize_variables\u001b[0m\u001b[0;34m(\u001b[0m\u001b[0muninitialized_vars\u001b[0m\u001b[0;34m)\u001b[0m\u001b[0;34m\u001b[0m\u001b[0;34m\u001b[0m\u001b[0m\n\u001b[0;32m---> 36\u001b[0;31m     \u001b[0msess\u001b[0m\u001b[0;34m.\u001b[0m\u001b[0mrun\u001b[0m\u001b[0;34m(\u001b[0m\u001b[0minit\u001b[0m\u001b[0;34m)\u001b[0m\u001b[0;34m\u001b[0m\u001b[0;34m\u001b[0m\u001b[0m\n\u001b[0m\u001b[1;32m     37\u001b[0m \u001b[0;34m\u001b[0m\u001b[0m\n\u001b[1;32m     38\u001b[0m     \u001b[0mquant1\u001b[0m \u001b[0;34m=\u001b[0m \u001b[0mtf\u001b[0m\u001b[0;34m.\u001b[0m\u001b[0mget_default_graph\u001b[0m\u001b[0;34m(\u001b[0m\u001b[0;34m)\u001b[0m\u001b[0;34m.\u001b[0m\u001b[0mget_tensor_by_name\u001b[0m\u001b[0;34m(\u001b[0m\u001b[0;34m\"bst_fake_quant_x/Pow:0\"\u001b[0m\u001b[0;34m)\u001b[0m\u001b[0;34m\u001b[0m\u001b[0;34m\u001b[0m\u001b[0m\n",
            "\u001b[0;32m~/venv/tf1.14.0/lib/python3.6/site-packages/tensorflow/python/client/session.py\u001b[0m in \u001b[0;36mrun\u001b[0;34m(self, fetches, feed_dict, options, run_metadata)\u001b[0m\n\u001b[1;32m    948\u001b[0m     \u001b[0;32mtry\u001b[0m\u001b[0;34m:\u001b[0m\u001b[0;34m\u001b[0m\u001b[0;34m\u001b[0m\u001b[0m\n\u001b[1;32m    949\u001b[0m       result = self._run(None, fetches, feed_dict, options_ptr,\n\u001b[0;32m--> 950\u001b[0;31m                          run_metadata_ptr)\n\u001b[0m\u001b[1;32m    951\u001b[0m       \u001b[0;32mif\u001b[0m \u001b[0mrun_metadata\u001b[0m\u001b[0;34m:\u001b[0m\u001b[0;34m\u001b[0m\u001b[0;34m\u001b[0m\u001b[0m\n\u001b[1;32m    952\u001b[0m         \u001b[0mproto_data\u001b[0m \u001b[0;34m=\u001b[0m \u001b[0mtf_session\u001b[0m\u001b[0;34m.\u001b[0m\u001b[0mTF_GetBuffer\u001b[0m\u001b[0;34m(\u001b[0m\u001b[0mrun_metadata_ptr\u001b[0m\u001b[0;34m)\u001b[0m\u001b[0;34m\u001b[0m\u001b[0;34m\u001b[0m\u001b[0m\n",
            "\u001b[0;32m~/venv/tf1.14.0/lib/python3.6/site-packages/tensorflow/python/client/session.py\u001b[0m in \u001b[0;36m_run\u001b[0;34m(self, handle, fetches, feed_dict, options, run_metadata)\u001b[0m\n\u001b[1;32m   1171\u001b[0m     \u001b[0;32mif\u001b[0m \u001b[0mfinal_fetches\u001b[0m \u001b[0;32mor\u001b[0m \u001b[0mfinal_targets\u001b[0m \u001b[0;32mor\u001b[0m \u001b[0;34m(\u001b[0m\u001b[0mhandle\u001b[0m \u001b[0;32mand\u001b[0m \u001b[0mfeed_dict_tensor\u001b[0m\u001b[0;34m)\u001b[0m\u001b[0;34m:\u001b[0m\u001b[0;34m\u001b[0m\u001b[0;34m\u001b[0m\u001b[0m\n\u001b[1;32m   1172\u001b[0m       results = self._do_run(handle, final_targets, final_fetches,\n\u001b[0;32m-> 1173\u001b[0;31m                              feed_dict_tensor, options, run_metadata)\n\u001b[0m\u001b[1;32m   1174\u001b[0m     \u001b[0;32melse\u001b[0m\u001b[0;34m:\u001b[0m\u001b[0;34m\u001b[0m\u001b[0;34m\u001b[0m\u001b[0m\n\u001b[1;32m   1175\u001b[0m       \u001b[0mresults\u001b[0m \u001b[0;34m=\u001b[0m \u001b[0;34m[\u001b[0m\u001b[0;34m]\u001b[0m\u001b[0;34m\u001b[0m\u001b[0;34m\u001b[0m\u001b[0m\n",
            "\u001b[0;32m~/venv/tf1.14.0/lib/python3.6/site-packages/tensorflow/python/client/session.py\u001b[0m in \u001b[0;36m_do_run\u001b[0;34m(self, handle, target_list, fetch_list, feed_dict, options, run_metadata)\u001b[0m\n\u001b[1;32m   1348\u001b[0m     \u001b[0;32mif\u001b[0m \u001b[0mhandle\u001b[0m \u001b[0;32mis\u001b[0m \u001b[0;32mNone\u001b[0m\u001b[0;34m:\u001b[0m\u001b[0;34m\u001b[0m\u001b[0;34m\u001b[0m\u001b[0m\n\u001b[1;32m   1349\u001b[0m       return self._do_call(_run_fn, feeds, fetches, targets, options,\n\u001b[0;32m-> 1350\u001b[0;31m                            run_metadata)\n\u001b[0m\u001b[1;32m   1351\u001b[0m     \u001b[0;32melse\u001b[0m\u001b[0;34m:\u001b[0m\u001b[0;34m\u001b[0m\u001b[0;34m\u001b[0m\u001b[0m\n\u001b[1;32m   1352\u001b[0m       \u001b[0;32mreturn\u001b[0m \u001b[0mself\u001b[0m\u001b[0;34m.\u001b[0m\u001b[0m_do_call\u001b[0m\u001b[0;34m(\u001b[0m\u001b[0m_prun_fn\u001b[0m\u001b[0;34m,\u001b[0m \u001b[0mhandle\u001b[0m\u001b[0;34m,\u001b[0m \u001b[0mfeeds\u001b[0m\u001b[0;34m,\u001b[0m \u001b[0mfetches\u001b[0m\u001b[0;34m)\u001b[0m\u001b[0;34m\u001b[0m\u001b[0;34m\u001b[0m\u001b[0m\n",
            "\u001b[0;32m~/venv/tf1.14.0/lib/python3.6/site-packages/tensorflow/python/client/session.py\u001b[0m in \u001b[0;36m_do_call\u001b[0;34m(self, fn, *args)\u001b[0m\n\u001b[1;32m   1368\u001b[0m           \u001b[0;32mpass\u001b[0m\u001b[0;34m\u001b[0m\u001b[0;34m\u001b[0m\u001b[0m\n\u001b[1;32m   1369\u001b[0m       \u001b[0mmessage\u001b[0m \u001b[0;34m=\u001b[0m \u001b[0merror_interpolation\u001b[0m\u001b[0;34m.\u001b[0m\u001b[0minterpolate\u001b[0m\u001b[0;34m(\u001b[0m\u001b[0mmessage\u001b[0m\u001b[0;34m,\u001b[0m \u001b[0mself\u001b[0m\u001b[0;34m.\u001b[0m\u001b[0m_graph\u001b[0m\u001b[0;34m)\u001b[0m\u001b[0;34m\u001b[0m\u001b[0;34m\u001b[0m\u001b[0m\n\u001b[0;32m-> 1370\u001b[0;31m       \u001b[0;32mraise\u001b[0m \u001b[0mtype\u001b[0m\u001b[0;34m(\u001b[0m\u001b[0me\u001b[0m\u001b[0;34m)\u001b[0m\u001b[0;34m(\u001b[0m\u001b[0mnode_def\u001b[0m\u001b[0;34m,\u001b[0m \u001b[0mop\u001b[0m\u001b[0;34m,\u001b[0m \u001b[0mmessage\u001b[0m\u001b[0;34m)\u001b[0m\u001b[0;34m\u001b[0m\u001b[0;34m\u001b[0m\u001b[0m\n\u001b[0m\u001b[1;32m   1371\u001b[0m \u001b[0;34m\u001b[0m\u001b[0m\n\u001b[1;32m   1372\u001b[0m   \u001b[0;32mdef\u001b[0m \u001b[0m_extend_graph\u001b[0m\u001b[0;34m(\u001b[0m\u001b[0mself\u001b[0m\u001b[0;34m)\u001b[0m\u001b[0;34m:\u001b[0m\u001b[0;34m\u001b[0m\u001b[0;34m\u001b[0m\u001b[0m\n",
            "\u001b[0;31mFailedPreconditionError\u001b[0m: Attempting to use uninitialized value random_normal/activation_Add_quant/random_normal/activation_Add_quant/max/biased\n\t [[node random_normal/activation_Add_quant/random_normal/activation_Add_quant/max/biased/read (defined at <ipython-input-18-29df25ed37f2>:15) ]]\n\nOriginal stack trace for 'random_normal/activation_Add_quant/random_normal/activation_Add_quant/max/biased/read':\n  File \"/usr/lib/python3.6/runpy.py\", line 193, in _run_module_as_main\n    \"__main__\", mod_spec)\n  File \"/usr/lib/python3.6/runpy.py\", line 85, in _run_code\n    exec(code, run_globals)\n  File \"/home/hongbing/venv/tf1.14.0/lib/python3.6/site-packages/ipykernel_launcher.py\", line 16, in <module>\n    app.launch_new_instance()\n  File \"/home/hongbing/venv/tf1.14.0/lib/python3.6/site-packages/traitlets/config/application.py\", line 664, in launch_instance\n    app.start()\n  File \"/home/hongbing/venv/tf1.14.0/lib/python3.6/site-packages/ipykernel/kernelapp.py\", line 583, in start\n    self.io_loop.start()\n  File \"/home/hongbing/venv/tf1.14.0/lib/python3.6/site-packages/tornado/platform/asyncio.py\", line 149, in start\n    self.asyncio_loop.run_forever()\n  File \"/usr/lib/python3.6/asyncio/base_events.py\", line 438, in run_forever\n    self._run_once()\n  File \"/usr/lib/python3.6/asyncio/base_events.py\", line 1451, in _run_once\n    handle._run()\n  File \"/usr/lib/python3.6/asyncio/events.py\", line 145, in _run\n    self._callback(*self._args)\n  File \"/home/hongbing/venv/tf1.14.0/lib/python3.6/site-packages/tornado/ioloop.py\", line 690, in <lambda>\n    lambda f: self._run_callback(functools.partial(callback, future))\n  File \"/home/hongbing/venv/tf1.14.0/lib/python3.6/site-packages/tornado/ioloop.py\", line 743, in _run_callback\n    ret = callback()\n  File \"/home/hongbing/venv/tf1.14.0/lib/python3.6/site-packages/tornado/gen.py\", line 787, in inner\n    self.run()\n  File \"/home/hongbing/venv/tf1.14.0/lib/python3.6/site-packages/tornado/gen.py\", line 748, in run\n    yielded = self.gen.send(value)\n  File \"/home/hongbing/venv/tf1.14.0/lib/python3.6/site-packages/ipykernel/kernelbase.py\", line 365, in process_one\n    yield gen.maybe_future(dispatch(*args))\n  File \"/home/hongbing/venv/tf1.14.0/lib/python3.6/site-packages/tornado/gen.py\", line 209, in wrapper\n    yielded = next(result)\n  File \"/home/hongbing/venv/tf1.14.0/lib/python3.6/site-packages/ipykernel/kernelbase.py\", line 268, in dispatch_shell\n    yield gen.maybe_future(handler(stream, idents, msg))\n  File \"/home/hongbing/venv/tf1.14.0/lib/python3.6/site-packages/tornado/gen.py\", line 209, in wrapper\n    yielded = next(result)\n  File \"/home/hongbing/venv/tf1.14.0/lib/python3.6/site-packages/ipykernel/kernelbase.py\", line 545, in execute_request\n    user_expressions, allow_stdin,\n  File \"/home/hongbing/venv/tf1.14.0/lib/python3.6/site-packages/tornado/gen.py\", line 209, in wrapper\n    yielded = next(result)\n  File \"/home/hongbing/venv/tf1.14.0/lib/python3.6/site-packages/ipykernel/ipkernel.py\", line 300, in do_execute\n    res = shell.run_cell(code, store_history=store_history, silent=silent)\n  File \"/home/hongbing/venv/tf1.14.0/lib/python3.6/site-packages/ipykernel/zmqshell.py\", line 536, in run_cell\n    return super(ZMQInteractiveShell, self).run_cell(*args, **kwargs)\n  File \"/home/hongbing/venv/tf1.14.0/lib/python3.6/site-packages/IPython/core/interactiveshell.py\", line 2858, in run_cell\n    raw_cell, store_history, silent, shell_futures)\n  File \"/home/hongbing/venv/tf1.14.0/lib/python3.6/site-packages/IPython/core/interactiveshell.py\", line 2886, in _run_cell\n    return runner(coro)\n  File \"/home/hongbing/venv/tf1.14.0/lib/python3.6/site-packages/IPython/core/async_helpers.py\", line 68, in _pseudo_sync_runner\n    coro.send(None)\n  File \"/home/hongbing/venv/tf1.14.0/lib/python3.6/site-packages/IPython/core/interactiveshell.py\", line 3063, in run_cell_async\n    interactivity=interactivity, compiler=compiler, result=result)\n  File \"/home/hongbing/venv/tf1.14.0/lib/python3.6/site-packages/IPython/core/interactiveshell.py\", line 3254, in run_ast_nodes\n    if (await self.run_code(code, result,  async_=asy)):\n  File \"/home/hongbing/venv/tf1.14.0/lib/python3.6/site-packages/IPython/core/interactiveshell.py\", line 3331, in run_code\n    exec(code_obj, self.user_global_ns, self.user_ns)\n  File \"<ipython-input-18-29df25ed37f2>\", line 15, in <module>\n    quantize_graph.create_training_graph(input_graph=tf.get_default_graph(), activation_bits=16, weight_bits=16)\n  File \"/home/hongbing/venv/tf1.14.0/lib/python3.6/site-packages/tensorflow/python/training/moving_averages.py\", line 107, in assign_moving_average\n    return replica_context.merge_call(merge_fn, args=(variable, value))\n  File \"/home/hongbing/venv/tf1.14.0/lib/python3.6/site-packages/tensorflow/python/distribute/distribute_lib.py\", line 1684, in merge_call\n    return self._merge_call(merge_fn, args, kwargs)\n  File \"/home/hongbing/venv/tf1.14.0/lib/python3.6/site-packages/tensorflow/python/distribute/distribute_lib.py\", line 1691, in _merge_call\n    return merge_fn(self._strategy, *args, **kwargs)\n  File \"/home/hongbing/venv/tf1.14.0/lib/python3.6/site-packages/tensorflow/python/training/moving_averages.py\", line 105, in merge_fn\n    return update(strategy, v, value)\n  File \"/home/hongbing/venv/tf1.14.0/lib/python3.6/site-packages/tensorflow/python/training/moving_averages.py\", line 94, in update\n    return _zero_debias(strategy, v, value, decay)\n  File \"/home/hongbing/venv/tf1.14.0/lib/python3.6/site-packages/tensorflow/python/training/moving_averages.py\", line 237, in _zero_debias\n    trainable=False)\n  File \"/home/hongbing/venv/tf1.14.0/lib/python3.6/site-packages/tensorflow/python/ops/variable_scope.py\", line 1496, in get_variable\n    aggregation=aggregation)\n  File \"/home/hongbing/venv/tf1.14.0/lib/python3.6/site-packages/tensorflow/python/ops/variable_scope.py\", line 1239, in get_variable\n    aggregation=aggregation)\n  File \"/home/hongbing/venv/tf1.14.0/lib/python3.6/site-packages/tensorflow/python/ops/variable_scope.py\", line 562, in get_variable\n    aggregation=aggregation)\n  File \"/home/hongbing/venv/tf1.14.0/lib/python3.6/site-packages/tensorflow/python/ops/variable_scope.py\", line 514, in _true_getter\n    aggregation=aggregation)\n  File \"/home/hongbing/venv/tf1.14.0/lib/python3.6/site-packages/tensorflow/python/ops/variable_scope.py\", line 929, in _get_single_variable\n    aggregation=aggregation)\n  File \"/home/hongbing/venv/tf1.14.0/lib/python3.6/site-packages/tensorflow/python/ops/variables.py\", line 259, in __call__\n    return cls._variable_v1_call(*args, **kwargs)\n  File \"/home/hongbing/venv/tf1.14.0/lib/python3.6/site-packages/tensorflow/python/ops/variables.py\", line 220, in _variable_v1_call\n    shape=shape)\n  File \"/home/hongbing/venv/tf1.14.0/lib/python3.6/site-packages/tensorflow/python/ops/variables.py\", line 198, in <lambda>\n    previous_getter = lambda **kwargs: default_variable_creator(None, **kwargs)\n  File \"/home/hongbing/venv/tf1.14.0/lib/python3.6/site-packages/tensorflow/python/ops/variable_scope.py\", line 2511, in default_variable_creator\n    shape=shape)\n  File \"/home/hongbing/venv/tf1.14.0/lib/python3.6/site-packages/tensorflow/python/ops/variables.py\", line 263, in __call__\n    return super(VariableMetaclass, cls).__call__(*args, **kwargs)\n  File \"/home/hongbing/venv/tf1.14.0/lib/python3.6/site-packages/tensorflow/python/ops/variables.py\", line 1568, in __init__\n    shape=shape)\n  File \"/home/hongbing/venv/tf1.14.0/lib/python3.6/site-packages/tensorflow/python/ops/variables.py\", line 1755, in _init_from_args\n    self._snapshot = array_ops.identity(self._variable, name=\"read\")\n  File \"/home/hongbing/venv/tf1.14.0/lib/python3.6/site-packages/tensorflow/python/util/dispatch.py\", line 180, in wrapper\n    return target(*args, **kwargs)\n  File \"/home/hongbing/venv/tf1.14.0/lib/python3.6/site-packages/tensorflow/python/ops/array_ops.py\", line 86, in identity\n    ret = gen_array_ops.identity(input, name=name)\n  File \"/home/hongbing/venv/tf1.14.0/lib/python3.6/site-packages/tensorflow/python/ops/gen_array_ops.py\", line 4253, in identity\n    \"Identity\", input=input, name=name)\n  File \"/home/hongbing/venv/tf1.14.0/lib/python3.6/site-packages/tensorflow/python/framework/op_def_library.py\", line 788, in _apply_op_helper\n    op_def=op_def)\n  File \"/home/hongbing/venv/tf1.14.0/lib/python3.6/site-packages/tensorflow/python/util/deprecation.py\", line 507, in new_func\n    return func(*args, **kwargs)\n  File \"/home/hongbing/venv/tf1.14.0/lib/python3.6/site-packages/tensorflow/python/framework/ops.py\", line 3616, in create_op\n    op_def=op_def)\n  File \"/home/hongbing/venv/tf1.14.0/lib/python3.6/site-packages/tensorflow/python/framework/ops.py\", line 2005, in __init__\n    self._traceback = tf_stack.extract_stack()\n"
          ]
        }
      ],
      "source": [
        "import tensorflow as tf\n",
        "import numpy as np\n",
        "from quantize.python import quantize_graph\n",
        "from quantize.python.bst_quantization import _bst_fake_quant\n",
        "\n",
        "tf.reset_default_graph()\n",
        "tf.random.set_random_seed(1)\n",
        "\n",
        "x = tf.placeholder(tf.float32, shape=(32, 32, 32, 32))\n",
        "y = tf.Variable(tf.random_normal([32, 32, 32, 32], stddev=0.001), name=\"y\")\n",
        "\n",
        "with tf.variable_scope(\"add\"):\n",
        "    add_layer = x + y\n",
        "\n",
        "quantize_graph.create_training_graph(input_graph=tf.get_default_graph(), activation_bits=16, weight_bits=16)\n",
        "print(tf.get_default_graph().get_operations())\n",
        "\n",
        "output_node_names = \"add/add\"\n",
        "\n",
        "with tf.Session() as sess:\n",
        "    saver = tf.train.Saver()\n",
        "    np.random.seed(0)\n",
        "    np_array = np.random.normal(0.0, 0.6, size=(32, 32, 32, 32))\n",
        "    np_array.astype(float)\n",
        "    x = tf.get_default_graph().get_tensor_by_name(\"Placeholder:0\")\n",
        "    \n",
        "    #sess.run(tf.global_variables_initializer())\n",
        "    uninitialized_vars = []\n",
        "    for var in tf.all_variables():\n",
        "        try:\n",
        "            sess.run(var)\n",
        "        except tf.errors.FailedPreconditionError:\n",
        "            uninitialized_vars.append(var)\n",
        "    print(uninitialized_vars)\n",
        "    init = tf.initialize_variables(uninitialized_vars)\n",
        "    sess.run(init)\n",
        "\n",
        "    quant1 = tf.get_default_graph().get_tensor_by_name(\"bst_fake_quant_x/Pow:0\")\n",
        "    quant2 = tf.get_default_graph().get_tensor_by_name(\"bst_fake_quant_y/Pow:0\")\n",
        "    quant3 = tf.get_default_graph().get_tensor_by_name(\"add/add:0\")\n",
        "    output = sess.run([quant1, quant2, quant3], feed_dict={x: np_array})\n",
        "    print(\"placeholder x: \", output[0], \"placeholder y: \", output[1])\n",
        "\n",
        "    saver.save(sess, \"./quant/model.ckpt\")"
      ]
    },
    {
      "cell_type": "code",
      "execution_count": null,
      "metadata": {},
      "outputs": [],
      "source": []
    }
  ],
  "metadata": {
    "kernelspec": {
      "display_name": "Python 3.7.3 64-bit ('tf1.15.2': venv)",
      "language": "python",
      "name": "python_defaultSpec_1596078024331"
    },
    "language_info": {
      "codemirror_mode": {
        "name": "ipython",
        "version": 3
      },
      "file_extension": ".py",
      "mimetype": "text/x-python",
      "name": "python",
      "nbconvert_exporter": "python",
      "pygments_lexer": "ipython3",
      "version": "3.7.3-final"
    }
  },
  "nbformat": 4,
  "nbformat_minor": 0
}